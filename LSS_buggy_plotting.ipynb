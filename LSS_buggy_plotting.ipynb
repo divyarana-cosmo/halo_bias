{
 "cells": [
  {
   "cell_type": "code",
   "execution_count": 1,
   "id": "5f82cc1e",
   "metadata": {},
   "outputs": [],
   "source": [
    "%matplotlib inline"
   ]
  },
  {
   "cell_type": "code",
   "execution_count": 2,
   "id": "9911ce8a",
   "metadata": {},
   "outputs": [],
   "source": [
    "#this notebook aims to understand the LSS contribution\n",
    "import numpy as np\n",
    "import matplotlib.pyplot as plt\n",
    "import pandas as pd"
   ]
  },
  {
   "cell_type": "code",
   "execution_count": 4,
   "id": "20ebc711",
   "metadata": {
    "scrolled": false
   },
   "outputs": [
    {
     "name": "stdout",
     "output_type": "stream",
     "text": [
      "njacks=27\n",
      "0\n",
      "1\n",
      "2\n",
      "3\n",
      "4\n",
      "5\n",
      "6\n",
      "7\n",
      "8\n",
      "9\n",
      "10\n",
      "11\n",
      "12\n",
      "13\n",
      "14\n",
      "15\n",
      "16\n",
      "17\n",
      "18\n",
      "19\n",
      "20\n",
      "21\n",
      "22\n",
      "23\n",
      "24\n",
      "25\n",
      "26\n"
     ]
    }
   ],
   "source": [
    "# getting the data\n",
    "dat = pd.read_csv('halo_catalog.csv')\n",
    "dat['x'] = dat['x']%2500\n",
    "dat['y'] = dat['y']%2500\n",
    "dat['z'] = dat['z']%2500\n",
    "#assigning jackknife region\n",
    "ljacks = 3\n",
    "jlen = 2500/ljacks\n",
    "ix = dat['x']//jlen; iy = dat['y']//jlen; iz = dat['z']//jlen\n",
    "\n",
    "xjkreg = ix + iy*ljacks + iz*ljacks**2\n",
    "\n",
    "njacks = len(np.unique(xjkreg))\n",
    "print('njacks=%d'%njacks)\n",
    "\n",
    "nhalo = len(ix)/(2500)**3\n",
    "rbins = np.logspace(np.log10(4), np.log10(20), 11)\n",
    "rad   = 0.5*(rbins[:-1] + rbins[1:])\n",
    "\n",
    "RR = 4*np.pi*(0.5*(rbins[:-1] + rbins[1:]))**2 * (rbins[1:] - rbins[:-1]) * nhalo\n",
    "\n",
    "\n",
    "from scipy.spatial import cKDTree\n",
    "xi = np.zeros(len(rad)*njacks)\n",
    "\n",
    "# intrbins, x0 = jj*len(ra), x1 = (jj+1)* len(ra)\n",
    "# tree on full halo catalog\n",
    "htree = cKDTree(np.transpose([dat['x'], dat['y'], dat['z']]), boxsize=2500)\n",
    "for jj in range(njacks):\n",
    "    idx  = (xjkreg!=jj)\n",
    "\n",
    "    jtree = cKDTree(np.transpose([dat['x'][idx], dat['y'][idx], dat['z'][idx]]), boxsize=2500)\n",
    "    DD = htree.count_neighbors(jtree, rbins, cumulative=True)\n",
    "    DD = np.diff(DD)/sum(idx)\n",
    "    x0 = jj*len(DD); x1 = (jj+1)* len(DD)\n",
    "    \n",
    "    xi[x0:x1] = DD/RR - 1\n",
    "    print(jj)\n",
    "    "
   ]
  },
  {
   "cell_type": "code",
   "execution_count": 5,
   "id": "d539b996",
   "metadata": {},
   "outputs": [
    {
     "data": {
      "text/plain": [
       "Text(0.5, 1.0, '$\\\\log[M_{\\\\rm vir}/({\\\\rm h^{-1}M_{\\\\odot}})] > 11$')"
      ]
     },
     "execution_count": 5,
     "metadata": {},
     "output_type": "execute_result"
    },
    {
     "data": {
      "image/png": "[encoded data removed]",
      "text/plain": [
       "<Figure size 600x600 with 1 Axes>"
      ]
     },
     "metadata": {},
     "output_type": "display_data"
    }
   ],
   "source": [
    "from colossus.cosmology import cosmology\n",
    "cosmo = cosmology.setCosmology('planck18')\n",
    "ximm = cosmo.correlationFunction(rad,0.0)\n",
    "bias = np.sqrt(xi/np.tile(ximm, njacks))\n",
    "#saving the bias for logMh 11 threshold\n",
    "bias11 = bias.reshape((njacks, len(rad)))\n",
    "\n",
    "yy = np.mean(bias11, axis=0)\n",
    "\n",
    "cov     = np.zeros((len(rad),len(rad)))\n",
    "for ii in range(len(rad)):\n",
    "    for jj in range(len(rad)):\n",
    "        cov[ii][jj] = np.mean((bias11[ii,:] - yy[ii])*(bias11[jj,:] - yy[jj]))\n",
    "        cov[ii][jj] = (njacks - 1)*cov[ii][jj]\n",
    "\n",
    "\n",
    "\n",
    "yyerr = np.sqrt(np.diag(cov))\n",
    "\n",
    "plt.subplot(2,2,1)\n",
    "plt.errorbar(rad, yy, yerr=yyerr, fmt='.', capsize=3)\n",
    "plt.xlim(5.5,20)\n",
    "plt.xlabel(r'$r \\, [{\\rm h^{-1}Mpc}]$')\n",
    "plt.ylabel(r'$b_{h}$')\n",
    "plt.xscale('log')    \n",
    "plt.title(r'$\\log[M_{\\rm vir}/({\\rm h^{-1}M_{\\odot}})] > 11$')\n"
   ]
  },
  {
   "cell_type": "code",
   "execution_count": 6,
   "id": "911d1064",
   "metadata": {
    "scrolled": true
   },
   "outputs": [
    {
     "data": {
      "text/plain": [
       "<matplotlib.colorbar.Colorbar at 0x7fc225446ca0>"
      ]
     },
     "execution_count": 6,
     "metadata": {},
     "output_type": "execute_result"
    },
    {
     "data": {
      "image/png": "[encoded data removed]",
      "text/plain": [
       "<Figure size 600x600 with 2 Axes>"
      ]
     },
     "metadata": {},
     "output_type": "display_data"
    }
   ],
   "source": [
    "corr = 0.0*cov\n",
    "for ii in range(len(rad)):\n",
    "    for jj in range(len(rad)):\n",
    "        corr[ii][jj] = cov[ii][jj]*1.0/(yyerr[ii]*yyerr[jj])\n",
    "\n",
    "\n",
    "plt.subplot(2,2,1)\n",
    "plt.imshow(corr,cmap='PuOr_r',vmin=-1,vmax=1,origin='lower',aspect='equal')\n",
    "plt.colorbar()"
   ]
  },
  {
   "cell_type": "code",
   "execution_count": 7,
   "id": "e0866a95",
   "metadata": {},
   "outputs": [
    {
     "data": {
      "text/plain": [
       "Text(0, 0.5, '$\\\\xi(r)$')"
      ]
     },
     "execution_count": 7,
     "metadata": {},
     "output_type": "execute_result"
    },
    {
     "data": {
      "image/png": "[encoded data removed]",
      "text/plain": [
       "<Figure size 600x600 with 1 Axes>"
      ]
     },
     "metadata": {},
     "output_type": "display_data"
    }
   ],
   "source": [
    "plt.subplot(2,2,1)\n",
    "for jjx in np.random.randint(njacks, size=10):\n",
    "    x0 = jjx*len(rad); x1 = (jjx+1)* len(rad)\n",
    "    plt.plot(rad,xi[x0:x1])\n",
    "plt.xscale('log')\n",
    "plt.yscale('log')\n",
    "plt.xlabel(r'$r \\, [{\\rm h^{-1}Mpc}]$')\n",
    "plt.ylabel(r'$\\xi(r)$')\n"
   ]
  },
  {
   "cell_type": "code",
   "execution_count": null,
   "id": "5599b69a",
   "metadata": {},
   "outputs": [],
   "source": []
  }
 ],
 "metadata": {
  "kernelspec": {
   "display_name": "Python 3 (ipykernel)",
   "language": "python",
   "name": "python3"
  },
  "language_info": {
   "codemirror_mode": {
    "name": "ipython",
    "version": 3
   },
   "file_extension": ".py",
   "mimetype": "text/x-python",
   "name": "python",
   "nbconvert_exporter": "python",
   "pygments_lexer": "ipython3",
   "version": "3.8.15"
  }
 },
 "nbformat": 4,
 "nbformat_minor": 5
}
