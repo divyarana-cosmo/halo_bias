{
 "cells": [
  {
   "cell_type": "code",
   "execution_count": 1,
   "id": "9911ce8a",
   "metadata": {},
   "outputs": [],
   "source": [
    "#this notebook aims to understand the LSS contribution\n",
    "import numpy as np\n",
    "import matplotlib.pyplot as plt\n",
    "import pandas as pd\n",
    "import fitsio\n",
    "from colossus.cosmology import cosmology\n",
    "cosmology.setCosmology('planck18');"
   ]
  },
  {
   "cell_type": "code",
   "execution_count": 2,
   "id": "065ef826",
   "metadata": {},
   "outputs": [
    {
     "name": "stdout",
     "output_type": "stream",
     "text": [
      "0.01022154944\n"
     ]
    }
   ],
   "source": [
    "# getting the data\n",
    "dat = fitsio.FITS('download')[1].read()\n",
    "dat['x'] = dat['x']%2500\n",
    "dat['y'] = dat['y']%2500\n",
    "dat['z'] = dat['z']%2500\n",
    "print(len(dat['x'])/(2500)**3)"
   ]
  },
  {
   "cell_type": "code",
   "execution_count": 3,
   "id": "6d08131f",
   "metadata": {},
   "outputs": [
    {
     "data": {
      "image/png": "[encoded data removed]",
      "text/plain": [
       "<Figure size 600x600 with 1 Axes>"
      ]
     },
     "metadata": {},
     "output_type": "display_data"
    }
   ],
   "source": [
    "from colossus.lss import mass_function\n",
    "\n",
    "z = [0.0]#, 1.0, 2.0, 4.0]\n",
    "M = 10**np.arange(11.0, 15.5, 0.1)\n",
    "\n",
    "plt.subplot(2,2,1)\n",
    "plt.xlabel('M200m')\n",
    "plt.ylabel('dn/dln(M)')\n",
    "plt.loglog()\n",
    "plt.xlim(1E11, 4E15)\n",
    "plt.ylim(1E-7, 1E-1)\n",
    "for i in range(len(z)):\n",
    "    mfunc = mass_function.massFunction(M, z[i], mdef = '200m', model = 'tinker08', q_out = 'dndlnM')\n",
    "    plt.plot(M, mfunc, '-', label = 'z = %.1f' % (z[i]))\n",
    "plt.legend();"
   ]
  },
  {
   "cell_type": "code",
   "execution_count": 4,
   "id": "509bce2b",
   "metadata": {},
   "outputs": [
    {
     "data": {
      "text/plain": [
       "[<matplotlib.lines.Line2D at 0x77cc3c6b7400>]"
      ]
     },
     "execution_count": 4,
     "metadata": {},
     "output_type": "execute_result"
    },
    {
     "data": {
      "image/png": "[encoded data removed]",
      "text/plain": [
       "<Figure size 600x600 with 1 Axes>"
      ]
     },
     "metadata": {},
     "output_type": "display_data"
    }
   ],
   "source": [
    "#assigning jackknife region\n",
    "ljacks = 250\n",
    "jlen = 2500/ljacks\n",
    "ix = dat['x']//jlen; iy = dat['y']//jlen; iz = dat['z']//jlen\n",
    "\n",
    "xjkreg = ix + iy*ljacks + iz*ljacks**2\n",
    "\n",
    "uqjkregs, counts = np.unique(xjkreg, return_counts=1)\n",
    "uqjkregs = uqjkregs[counts>0]\n",
    "counts   = counts[counts>0]\n",
    "plt.subplot(2,2,1)\n",
    "plt.plot(uqjkregs , counts)"
   ]
  },
  {
   "cell_type": "code",
   "execution_count": 5,
   "id": "a7f3b9cf",
   "metadata": {},
   "outputs": [
    {
     "ename": "KeyboardInterrupt",
     "evalue": "",
     "output_type": "error",
     "traceback": [
      "\u001b[0;31m---------------------------------------------------------------------------\u001b[0m",
      "\u001b[0;31mKeyboardInterrupt\u001b[0m                         Traceback (most recent call last)",
      "Cell \u001b[0;32mIn[5], line 13\u001b[0m\n\u001b[1;32m     11\u001b[0m \u001b[38;5;66;03m# bottom 25 percentile\u001b[39;00m\n\u001b[1;32m     12\u001b[0m idx \u001b[38;5;241m=\u001b[39m counts\u001b[38;5;241m<\u001b[39mnp\u001b[38;5;241m.\u001b[39mpercentile(counts,\u001b[38;5;241m25\u001b[39m)\n\u001b[0;32m---> 13\u001b[0m yy \u001b[38;5;241m=\u001b[39m dat[\u001b[38;5;124m'\u001b[39m\u001b[38;5;124mmvir\u001b[39m\u001b[38;5;124m'\u001b[39m][\u001b[43mnp\u001b[49m\u001b[38;5;241;43m.\u001b[39;49m\u001b[43misin\u001b[49m\u001b[43m(\u001b[49m\u001b[43mxjkreg\u001b[49m\u001b[43m,\u001b[49m\u001b[43m \u001b[49m\u001b[43muqjkregs\u001b[49m\u001b[43m[\u001b[49m\u001b[43midx\u001b[49m\u001b[43m]\u001b[49m\u001b[43m)\u001b[49m]\n\u001b[1;32m     14\u001b[0m plt\u001b[38;5;241m.\u001b[39mhist(np\u001b[38;5;241m.\u001b[39mlog10(yy),weights\u001b[38;5;241m=\u001b[39m\u001b[38;5;241m0.0\u001b[39m\u001b[38;5;241m*\u001b[39myy \u001b[38;5;241m+\u001b[39m \u001b[38;5;241m1\u001b[39m\u001b[38;5;241m/\u001b[39m(\u001b[38;5;241m2500\u001b[39m)\u001b[38;5;241m*\u001b[39m\u001b[38;5;241m*\u001b[39m\u001b[38;5;241m3\u001b[39m, bins\u001b[38;5;241m=\u001b[39mbins, histtype\u001b[38;5;241m=\u001b[39m\u001b[38;5;124m'\u001b[39m\u001b[38;5;124mstep\u001b[39m\u001b[38;5;124m'\u001b[39m, density\u001b[38;5;241m=\u001b[39m\u001b[38;5;241m1\u001b[39m)\n\u001b[1;32m     16\u001b[0m plt\u001b[38;5;241m.\u001b[39myscale(\u001b[38;5;124m'\u001b[39m\u001b[38;5;124mlog\u001b[39m\u001b[38;5;124m'\u001b[39m)\n",
      "File \u001b[0;32m<__array_function__ internals>:200\u001b[0m, in \u001b[0;36misin\u001b[0;34m(*args, **kwargs)\u001b[0m\n",
      "File \u001b[0;32m/opt/miniconda3/lib/python3.10/site-packages/numpy/lib/arraysetops.py:890\u001b[0m, in \u001b[0;36misin\u001b[0;34m(element, test_elements, assume_unique, invert, kind)\u001b[0m\n\u001b[1;32m    769\u001b[0m \u001b[38;5;124;03m\"\"\"\u001b[39;00m\n\u001b[1;32m    770\u001b[0m \u001b[38;5;124;03mCalculates ``element in test_elements``, broadcasting over `element` only.\u001b[39;00m\n\u001b[1;32m    771\u001b[0m \u001b[38;5;124;03mReturns a boolean array of the same shape as `element` that is True\u001b[39;00m\n\u001b[0;32m   (...)\u001b[0m\n\u001b[1;32m    887\u001b[0m \u001b[38;5;124;03m       [ True, False]])\u001b[39;00m\n\u001b[1;32m    888\u001b[0m \u001b[38;5;124;03m\"\"\"\u001b[39;00m\n\u001b[1;32m    889\u001b[0m element \u001b[38;5;241m=\u001b[39m np\u001b[38;5;241m.\u001b[39masarray(element)\n\u001b[0;32m--> 890\u001b[0m \u001b[38;5;28;01mreturn\u001b[39;00m \u001b[43min1d\u001b[49m\u001b[43m(\u001b[49m\u001b[43melement\u001b[49m\u001b[43m,\u001b[49m\u001b[43m \u001b[49m\u001b[43mtest_elements\u001b[49m\u001b[43m,\u001b[49m\u001b[43m \u001b[49m\u001b[43massume_unique\u001b[49m\u001b[38;5;241;43m=\u001b[39;49m\u001b[43massume_unique\u001b[49m\u001b[43m,\u001b[49m\n\u001b[1;32m    891\u001b[0m \u001b[43m            \u001b[49m\u001b[43minvert\u001b[49m\u001b[38;5;241;43m=\u001b[39;49m\u001b[43minvert\u001b[49m\u001b[43m,\u001b[49m\u001b[43m \u001b[49m\u001b[43mkind\u001b[49m\u001b[38;5;241;43m=\u001b[39;49m\u001b[43mkind\u001b[49m\u001b[43m)\u001b[49m\u001b[38;5;241m.\u001b[39mreshape(element\u001b[38;5;241m.\u001b[39mshape)\n",
      "File \u001b[0;32m<__array_function__ internals>:200\u001b[0m, in \u001b[0;36min1d\u001b[0;34m(*args, **kwargs)\u001b[0m\n",
      "File \u001b[0;32m/opt/miniconda3/lib/python3.10/site-packages/numpy/lib/arraysetops.py:738\u001b[0m, in \u001b[0;36min1d\u001b[0;34m(ar1, ar2, assume_unique, invert, kind)\u001b[0m\n\u001b[1;32m    736\u001b[0m \u001b[38;5;66;03m# Otherwise use sorting\u001b[39;00m\n\u001b[1;32m    737\u001b[0m \u001b[38;5;28;01mif\u001b[39;00m \u001b[38;5;129;01mnot\u001b[39;00m assume_unique:\n\u001b[0;32m--> 738\u001b[0m     ar1, rev_idx \u001b[38;5;241m=\u001b[39m \u001b[43mnp\u001b[49m\u001b[38;5;241;43m.\u001b[39;49m\u001b[43munique\u001b[49m\u001b[43m(\u001b[49m\u001b[43mar1\u001b[49m\u001b[43m,\u001b[49m\u001b[43m \u001b[49m\u001b[43mreturn_inverse\u001b[49m\u001b[38;5;241;43m=\u001b[39;49m\u001b[38;5;28;43;01mTrue\u001b[39;49;00m\u001b[43m)\u001b[49m\n\u001b[1;32m    739\u001b[0m     ar2 \u001b[38;5;241m=\u001b[39m np\u001b[38;5;241m.\u001b[39munique(ar2)\n\u001b[1;32m    741\u001b[0m ar \u001b[38;5;241m=\u001b[39m np\u001b[38;5;241m.\u001b[39mconcatenate((ar1, ar2))\n",
      "File \u001b[0;32m<__array_function__ internals>:200\u001b[0m, in \u001b[0;36munique\u001b[0;34m(*args, **kwargs)\u001b[0m\n",
      "File \u001b[0;32m/opt/miniconda3/lib/python3.10/site-packages/numpy/lib/arraysetops.py:274\u001b[0m, in \u001b[0;36munique\u001b[0;34m(ar, return_index, return_inverse, return_counts, axis, equal_nan)\u001b[0m\n\u001b[1;32m    272\u001b[0m ar \u001b[38;5;241m=\u001b[39m np\u001b[38;5;241m.\u001b[39masanyarray(ar)\n\u001b[1;32m    273\u001b[0m \u001b[38;5;28;01mif\u001b[39;00m axis \u001b[38;5;129;01mis\u001b[39;00m \u001b[38;5;28;01mNone\u001b[39;00m:\n\u001b[0;32m--> 274\u001b[0m     ret \u001b[38;5;241m=\u001b[39m \u001b[43m_unique1d\u001b[49m\u001b[43m(\u001b[49m\u001b[43mar\u001b[49m\u001b[43m,\u001b[49m\u001b[43m \u001b[49m\u001b[43mreturn_index\u001b[49m\u001b[43m,\u001b[49m\u001b[43m \u001b[49m\u001b[43mreturn_inverse\u001b[49m\u001b[43m,\u001b[49m\u001b[43m \u001b[49m\u001b[43mreturn_counts\u001b[49m\u001b[43m,\u001b[49m\u001b[43m \u001b[49m\n\u001b[1;32m    275\u001b[0m \u001b[43m                    \u001b[49m\u001b[43mequal_nan\u001b[49m\u001b[38;5;241;43m=\u001b[39;49m\u001b[43mequal_nan\u001b[49m\u001b[43m)\u001b[49m\n\u001b[1;32m    276\u001b[0m     \u001b[38;5;28;01mreturn\u001b[39;00m _unpack_tuple(ret)\n\u001b[1;32m    278\u001b[0m \u001b[38;5;66;03m# axis was specified and not None\u001b[39;00m\n",
      "File \u001b[0;32m/opt/miniconda3/lib/python3.10/site-packages/numpy/lib/arraysetops.py:333\u001b[0m, in \u001b[0;36m_unique1d\u001b[0;34m(ar, return_index, return_inverse, return_counts, equal_nan)\u001b[0m\n\u001b[1;32m    330\u001b[0m optional_indices \u001b[38;5;241m=\u001b[39m return_index \u001b[38;5;129;01mor\u001b[39;00m return_inverse\n\u001b[1;32m    332\u001b[0m \u001b[38;5;28;01mif\u001b[39;00m optional_indices:\n\u001b[0;32m--> 333\u001b[0m     perm \u001b[38;5;241m=\u001b[39m \u001b[43mar\u001b[49m\u001b[38;5;241;43m.\u001b[39;49m\u001b[43margsort\u001b[49m\u001b[43m(\u001b[49m\u001b[43mkind\u001b[49m\u001b[38;5;241;43m=\u001b[39;49m\u001b[38;5;124;43m'\u001b[39;49m\u001b[38;5;124;43mmergesort\u001b[39;49m\u001b[38;5;124;43m'\u001b[39;49m\u001b[43m \u001b[49m\u001b[38;5;28;43;01mif\u001b[39;49;00m\u001b[43m \u001b[49m\u001b[43mreturn_index\u001b[49m\u001b[43m \u001b[49m\u001b[38;5;28;43;01melse\u001b[39;49;00m\u001b[43m \u001b[49m\u001b[38;5;124;43m'\u001b[39;49m\u001b[38;5;124;43mquicksort\u001b[39;49m\u001b[38;5;124;43m'\u001b[39;49m\u001b[43m)\u001b[49m\n\u001b[1;32m    334\u001b[0m     aux \u001b[38;5;241m=\u001b[39m ar[perm]\n\u001b[1;32m    335\u001b[0m \u001b[38;5;28;01melse\u001b[39;00m:\n",
      "\u001b[0;31mKeyboardInterrupt\u001b[0m: "
     ]
    },
    {
     "data": {
      "image/png": "[encoded data removed]",
      "text/plain": [
       "<Figure size 600x600 with 1 Axes>"
      ]
     },
     "metadata": {},
     "output_type": "display_data"
    }
   ],
   "source": [
    "\n",
    "bins = np.linspace(10,15,31)\n",
    "\n",
    "plt.subplot(2,2,1)\n",
    "# full hmf\n",
    "yy = dat['mvir']\n",
    "plt.hist(np.log10(yy),weights=0.0*yy + 1/(2500)**3, bins=bins, histtype='step', density=1)\n",
    "# top 25 percentile\n",
    "idx = counts>np.percentile(counts,75)\n",
    "yy = dat['mvir'][np.isin(xjkreg, uqjkregs[idx])]\n",
    "plt.hist(np.log10(yy),weights=0.0*yy + 1/(2500)**3, bins=bins, histtype='step', density=1)\n",
    "# bottom 25 percentile\n",
    "idx = counts<np.percentile(counts,25)\n",
    "yy = dat['mvir'][np.isin(xjkreg, uqjkregs[idx])]\n",
    "plt.hist(np.log10(yy),weights=0.0*yy + 1/(2500)**3, bins=bins, histtype='step', density=1)\n",
    "\n",
    "plt.yscale('log')\n",
    "\n",
    "\n",
    "mfunc = mass_function.massFunction(10**bins, 0.0, mdef = 'vir', model = 'tinker08', q_out = 'dndlnM')\n",
    "plt.plot(bins, mfunc, '-', label = 'z = %.1f' % (0.0))\n"
   ]
  },
  {
   "cell_type": "code",
   "execution_count": null,
   "id": "20ebc711",
   "metadata": {
    "scrolled": false
   },
   "outputs": [],
   "source": [
    "#assigning jackknife region\n",
    "ljacks = 100\n",
    "jlen = 2500/ljacks\n",
    "ix = dat['x']//jlen; iy = dat['y']//jlen; iz = dat['z']//jlen\n",
    "\n",
    "xjkreg = ix + iy*ljacks + iz*ljacks**2\n",
    "\n",
    "njacks = len(np.unique(xjkreg))\n",
    "print('njacks=%d'%njacks)\n",
    "\n",
    "nhalo = len(ix)/(2500)**3\n",
    "rbins = np.logspace(np.log10(4), np.log10(20), 11)\n",
    "rad   = 0.5*(rbins[:-1] + rbins[1:])\n",
    "\n",
    "RR = 4*np.pi*(0.5*(rbins[:-1] + rbins[1:]))**2 * (rbins[1:] - rbins[:-1]) * nhalo\n",
    "\n",
    "\n",
    "from scipy.spatial import cKDTree\n",
    "xi = np.zeros(len(rad)*njacks)\n",
    "\n",
    "# intrbins, x0 = jj*len(ra), x1 = (jj+1)* len(ra)\n",
    "# tree on full halo catalog\n",
    "htree = cKDTree(np.transpose([dat['x'], dat['y'], dat['z']]), boxsize=2500)\n",
    "for jj in range(njacks):\n",
    "    idx  = (xjkreg!=jj)\n",
    "\n",
    "    jtree = cKDTree(np.transpose([dat['x'][idx], dat['y'][idx], dat['z'][idx]]), boxsize=2500)\n",
    "    DD = htree.count_neighbors(jtree, rbins, cumulative=True)\n",
    "    DD = np.diff(DD)/sum(idx)\n",
    "    x0 = jj*len(DD); x1 = (jj+1)* len(DD)\n",
    "    \n",
    "    xi[x0:x1] = DD/RR - 1\n",
    "    print(jj)\n",
    "    "
   ]
  },
  {
   "cell_type": "code",
   "execution_count": null,
   "id": "d539b996",
   "metadata": {},
   "outputs": [],
   "source": [
    "from colossus.cosmology import cosmology\n",
    "cosmo = cosmology.setCosmology('planck18')\n",
    "ximm = cosmo.correlationFunction(rad,0.0)\n",
    "bias = np.sqrt(xi/np.tile(ximm, njacks))\n",
    "#saving the bias for logMh 11 threshold\n",
    "bias11 = bias.reshape((njacks, len(rad)))\n",
    "\n",
    "yy = np.mean(bias11, axis=0)\n",
    "\n",
    "cov     = np.zeros((len(rad),len(rad)))\n",
    "for ii in range(len(rad)):\n",
    "    for jj in range(len(rad)):\n",
    "        cov[ii][jj] = np.mean((bias11[ii,:] - yy[ii])*(bias11[jj,:] - yy[jj]))\n",
    "        cov[ii][jj] = (njacks - 1)*cov[ii][jj]\n",
    "\n",
    "\n",
    "\n",
    "yyerr = np.sqrt(np.diag(cov))\n",
    "\n",
    "plt.subplot(2,2,1)\n",
    "plt.errorbar(rad, yy, yerr=yyerr, fmt='.', capsize=3)\n",
    "plt.xlim(5.5,20)\n",
    "plt.xlabel(r'$r \\, [{\\rm h^{-1}Mpc}]$')\n",
    "plt.ylabel(r'$b_{h}$')\n",
    "plt.xscale('log')    \n",
    "plt.title(r'$\\log[M_{\\rm vir}/({\\rm h^{-1}M_{\\odot}})] > 11$')\n"
   ]
  },
  {
   "cell_type": "code",
   "execution_count": null,
   "id": "911d1064",
   "metadata": {
    "scrolled": true
   },
   "outputs": [],
   "source": [
    "corr = 0.0*cov\n",
    "for ii in range(len(rad)):\n",
    "    for jj in range(len(rad)):\n",
    "        corr[ii][jj] = cov[ii][jj]*1.0/(yyerr[ii]*yyerr[jj])\n",
    "\n",
    "\n",
    "plt.subplot(2,2,1)\n",
    "plt.imshow(corr,cmap='PuOr_r',vmin=-1,vmax=1,origin='lower',aspect='equal')\n",
    "plt.colorbar()"
   ]
  },
  {
   "cell_type": "code",
   "execution_count": 7,
   "id": "e0866a95",
   "metadata": {},
   "outputs": [
    {
     "data": {
      "text/plain": [
       "Text(0, 0.5, '$\\\\xi(r)$')"
      ]
     },
     "execution_count": 7,
     "metadata": {},
     "output_type": "execute_result"
    },
    {
     "data": {
      "image/png": "[encoded data removed]",
      "text/plain": [
       "<Figure size 600x600 with 1 Axes>"
      ]
     },
     "metadata": {},
     "output_type": "display_data"
    }
   ],
   "source": [
    "plt.subplot(2,2,1)\n",
    "for jjx in np.random.randint(njacks, size=10):\n",
    "    x0 = jjx*len(rad); x1 = (jjx+1)* len(rad)\n",
    "    plt.plot(rad,xi[x0:x1])\n",
    "plt.xscale('log')\n",
    "plt.yscale('log')\n",
    "plt.xlabel(r'$r \\, [{\\rm h^{-1}Mpc}]$')\n",
    "plt.ylabel(r'$\\xi(r)$')\n"
   ]
  },
  {
   "cell_type": "code",
   "execution_count": null,
   "id": "5599b69a",
   "metadata": {},
   "outputs": [],
   "source": []
  }
 ],
 "metadata": {
  "kernelspec": {
   "display_name": "Python 3 (ipykernel)",
   "language": "python",
   "name": "python3"
  },
  "language_info": {
   "codemirror_mode": {
    "name": "ipython",
    "version": 3
   },
   "file_extension": ".py",
   "mimetype": "text/x-python",
   "name": "python",
   "nbconvert_exporter": "python",
   "pygments_lexer": "ipython3",
   "version": "3.10.10"
  }
 },
 "nbformat": 4,
 "nbformat_minor": 5
}
